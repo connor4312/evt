{
 "cells": [
  {
   "cell_type": "markdown",
   "metadata": {},
   "source": [
    "# VS Code Event Performance\n",
    "\n",
    "First, let's look at how events are used. I initially hypothesized we'd have a bimodal distribution between listeners with a small number of events, and ones with large number of events.\n",
    "\n",
    "In reality, it's much closer to a power-law distribution. The plurality of event emitters have no listeners at all, and second most common is a single listener. This data was collected after VS Code started up with an editor open:"
   ]
  },
  {
   "cell_type": "code",
   "execution_count": 7,
   "metadata": {},
   "outputs": [
    {
     "data": {
      "image/png": "[encoded data removed]",
      "text/plain": [
       "<Figure size 432x288 with 1 Axes>"
      ]
     },
     "metadata": {},
     "output_type": "display_data"
    }
   ],
   "source": [
    "import json\n",
    "import matplotlib.pyplot as plt\n",
    "\n",
    "with open('./boot.json') as f:\n",
    "  data = json.load(f)\n",
    "\n",
    "fig, ax = plt.subplots(facecolor='w')\n",
    "ax.hist(data['numListeners'], bins=range(min(data['numListeners']), max(data['numListeners']) + 2, 1), rwidth=0.8)\n",
    "ax.set_xlabel('Number of Listeners')\n",
    "ax.set_ylabel('Listeners')\n",
    "ax.set_title('Number of Listeners per Emitter')\n",
    "ax.set_yscale('log')\n",
    "plt.show()\n"
   ]
  },
  {
   "cell_type": "markdown",
   "metadata": {},
   "source": [
    "We can also estimate how long was spent in the delivery mechanics during boot. This is the time to create the delivery queue, not call each individual function, so it slightly **underestimates** the actual time."
   ]
  },
  {
   "cell_type": "code",
   "execution_count": 3,
   "metadata": {},
   "outputs": [
    {
     "name": "stdout",
     "output_type": "stream",
     "text": [
      "Stats for the first 13 seconds of the editor:\n",
      "Time spent in emitter overhead (ms) 33.0\n",
      "Total number of event emissions: 13882\n"
     ]
    }
   ],
   "source": [
    "total = 0\n",
    "emissions = 0\n",
    "for d in data['eventRate']:\n",
    "  total += d['spent'] - d['deliverySpent']\n",
    "  emissions += d['emissions']\n",
    "print('Stats for the first', len(data['eventRate']), 'seconds of the editor:')\n",
    "print('Time spent in emitter overhead (ms)', round(total, 2))\n",
    "print('Total number of event emissions:', emissions)"
   ]
  },
  {
   "cell_type": "markdown",
   "metadata": {},
   "source": [
    "Finally, let's look at memory usage once the editor is in a steady opened state. This is counting the direct utilization of the Emitters and its linked list nodes.\n",
    "\n",
    "From a heap snapshot, I manually tallied memory usage per for emitters, which comes to a total usage of:"
   ]
  },
  {
   "cell_type": "code",
   "execution_count": 4,
   "metadata": {},
   "outputs": [
    {
     "name": "stdout",
     "output_type": "stream",
     "text": [
      "Memory usage: 512.8671875 KB\n"
     ]
    }
   ],
   "source": [
    "zero_listener_emitter = 76\n",
    "linked_list_overhead = 24\n",
    "bytes_per_emitter = 24\n",
    "memory = 0\n",
    "for n in data['numListeners']:\n",
    "    if n == 0:\n",
    "      memory += zero_listener_emitter\n",
    "    else:\n",
    "      memory += zero_listener_emitter + linked_list_overhead + n * bytes_per_emitter\n",
    "print(\"Memory usage:\", memory / 1024, \"KB\")"
   ]
  },
  {
   "cell_type": "markdown",
   "metadata": {},
   "source": [
    "---\n",
    "\n",
    "Now let's look at new `evt` style events as implemented in [PR #185889](https://github.com/microsoft/vscode/pull/185889). This a closer examinaton based on analyzing the .cpuprofile while starting the editor several times with the old log, and then the new logic.\n",
    "\n",
    "The script that extracted this data can be found `profile-extractor.js`. Each CPU profile has a list of `nodes`, which are stack frames containing zero or more child frame `nodes`, and the `samples` array that indicates which node was at the top of the stack at that moment for a duration given by `timeDeltas[i]`. To figure out how much time was spent in the event code, we count all code that was called in or by `event.js`, until we get to a \"deliver\" or \"invoke\" method, which are the methods used by the old and new code to call the business logic contained in each listener."
   ]
  },
  {
   "cell_type": "code",
   "execution_count": 6,
   "metadata": {},
   "outputs": [
    {
     "data": {
      "image/png": "[encoded data removed]",
      "text/plain": [
       "<Figure size 432x288 with 1 Axes>"
      ]
     },
     "metadata": {},
     "output_type": "display_data"
    },
    {
     "name": "stdout",
     "output_type": "stream",
     "text": [
      "The new times are faster than the old times\n",
      "Chance this is a statistically significantly different from \"old times\": 99.98%\n",
      "Median time 70.0252 -> 61.2079375\n"
     ]
    }
   ],
   "source": [
    "import json\n",
    "import matplotlib.pyplot as plt\n",
    "import numpy as np\n",
    "from scipy.stats import ttest_ind\n",
    "\n",
    "with open('./old.json') as f:\n",
    "  old_times = json.load(f)\n",
    "\n",
    "with open('./new.json') as f:\n",
    "  new_times = json.load(f)\n",
    "\n",
    "data = [old_times, new_times]\n",
    "fig, ax = plt.subplots(facecolor='w')\n",
    "ax.boxplot(data, showfliers=False, showmeans=True, meanline=True, labels=['Old Times', 'New Times'], notch=True)\n",
    "ax.set_ylabel('Duration / ms')\n",
    "ax.set_title('Time spent in event.js during startup')\n",
    "plt.savefig('event_analysis.png') # save the plot image to a file\n",
    "plt.show()\n",
    "\n",
    "t_stat, p_val = ttest_ind(old_times, new_times)\n",
    "diff_perc = round((1 - p_val) * 100, 2)\n",
    "if t_stat > 0:\n",
    "  print(\"The new times are faster than the old times\")\n",
    "print(f'Chance this is a statistically significantly different from \"old times\": {diff_perc}%')\n",
    "print(f'Median time {np.mean(old_times)} -> {np.mean(new_times)}')"
   ]
  },
  {
   "cell_type": "markdown",
   "metadata": {},
   "source": [
    "It appears the new event system shaved 10ms or so off startup time. Neat!"
   ]
  }
 ],
 "metadata": {
  "kernelspec": {
   "display_name": "Python 3",
   "language": "python",
   "name": "python3"
  },
  "language_info": {
   "codemirror_mode": {
    "name": "ipython",
    "version": 3
   },
   "file_extension": ".py",
   "mimetype": "text/x-python",
   "name": "python",
   "nbconvert_exporter": "python",
   "pygments_lexer": "ipython3",
   "version": "3.9.7"
  },
  "orig_nbformat": 4
 },
 "nbformat": 4,
 "nbformat_minor": 2
}
